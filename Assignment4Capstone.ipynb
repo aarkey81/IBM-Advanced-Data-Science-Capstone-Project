{
 "cells": [
  {
   "cell_type": "markdown",
   "metadata": {
    "collapsed": true
   },
   "source": [
    "# Predicting FSTE Share Prices - Advanced Data Science Capstone Project"
   ]
  },
  {
   "cell_type": "markdown",
   "metadata": {},
   "source": [
    "## RAMESH KUMAR SHARMA"
   ]
  },
  {
   "cell_type": "markdown",
   "metadata": {},
   "source": [
    "#### <font color=red> Note: All elements of the project are contained within this SINGLE notebook"
   ]
  },
  {
   "cell_type": "markdown",
   "metadata": {},
   "source": [
    "***"
   ]
  },
  {
   "cell_type": "markdown",
   "metadata": {},
   "source": [
    "## Extract Transform Load"
   ]
  },
  {
   "cell_type": "markdown",
   "metadata": {},
   "source": [
    "### Data Import"
   ]
  },
  {
   "cell_type": "markdown",
   "metadata": {},
   "source": [
    "#### Data Source: Yahoo Finance; FSTE 100 Index Jan 1984 - Aug 2020"
   ]
  },
  {
   "cell_type": "code",
   "execution_count": 157,
   "metadata": {
    "collapsed": true
   },
   "outputs": [],
   "source": [
    "# Import key libraries and dataset\n",
    "\n",
    "import types\n",
    "import pandas as pd\n",
    "from botocore.client import Config\n",
    "import ibm_boto3\n",
    "\n",
    "def __iter__(self): return 0"
   ]
  },
  {
   "cell_type": "code",
   "execution_count": 164,
   "metadata": {
    "collapsed": true
   },
   "outputs": [],
   "source": [
    "# The code was removed by Watson Studio for sharing."
   ]
  },
  {
   "cell_type": "code",
   "execution_count": 165,
   "metadata": {
    "collapsed": false
   },
   "outputs": [
    {
     "data": {
      "text/html": [
       "<div>\n",
       "<style scoped>\n",
       "    .dataframe tbody tr th:only-of-type {\n",
       "        vertical-align: middle;\n",
       "    }\n",
       "\n",
       "    .dataframe tbody tr th {\n",
       "        vertical-align: top;\n",
       "    }\n",
       "\n",
       "    .dataframe thead th {\n",
       "        text-align: right;\n",
       "    }\n",
       "</style>\n",
       "<table border=\"1\" class=\"dataframe\">\n",
       "  <thead>\n",
       "    <tr style=\"text-align: right;\">\n",
       "      <th></th>\n",
       "      <th>Date</th>\n",
       "      <th>Open</th>\n",
       "      <th>High</th>\n",
       "      <th>Low</th>\n",
       "      <th>Close</th>\n",
       "      <th>Adj Close</th>\n",
       "      <th>Volume</th>\n",
       "    </tr>\n",
       "  </thead>\n",
       "  <tbody>\n",
       "    <tr>\n",
       "      <th>0</th>\n",
       "      <td>Jan 03, 1984</td>\n",
       "      <td>997.5</td>\n",
       "      <td>1001.4</td>\n",
       "      <td>997.5</td>\n",
       "      <td>997.5</td>\n",
       "      <td>997.5</td>\n",
       "      <td>-</td>\n",
       "    </tr>\n",
       "    <tr>\n",
       "      <th>1</th>\n",
       "      <td>Jan 04, 1984</td>\n",
       "      <td>997.5</td>\n",
       "      <td>999.5</td>\n",
       "      <td>993.3</td>\n",
       "      <td>998.6</td>\n",
       "      <td>998.6</td>\n",
       "      <td>-</td>\n",
       "    </tr>\n",
       "    <tr>\n",
       "      <th>2</th>\n",
       "      <td>Jan 05, 1984</td>\n",
       "      <td>1007.1</td>\n",
       "      <td>1015.8</td>\n",
       "      <td>1007.1</td>\n",
       "      <td>1015.8</td>\n",
       "      <td>1015.8</td>\n",
       "      <td>-</td>\n",
       "    </tr>\n",
       "    <tr>\n",
       "      <th>3</th>\n",
       "      <td>Jan 06, 1984</td>\n",
       "      <td>1019</td>\n",
       "      <td>1029.3</td>\n",
       "      <td>1019</td>\n",
       "      <td>1029</td>\n",
       "      <td>1029</td>\n",
       "      <td>-</td>\n",
       "    </tr>\n",
       "    <tr>\n",
       "      <th>4</th>\n",
       "      <td>Jan 09, 1984</td>\n",
       "      <td>1030.6</td>\n",
       "      <td>1035.4</td>\n",
       "      <td>1030.6</td>\n",
       "      <td>1034.6</td>\n",
       "      <td>1034.6</td>\n",
       "      <td>-</td>\n",
       "    </tr>\n",
       "  </tbody>\n",
       "</table>\n",
       "</div>"
      ],
      "text/plain": [
       "           Date    Open    High     Low   Close Adj Close Volume\n",
       "0  Jan 03, 1984   997.5  1001.4   997.5   997.5     997.5      -\n",
       "1  Jan 04, 1984   997.5   999.5   993.3   998.6     998.6      -\n",
       "2  Jan 05, 1984  1007.1  1015.8  1007.1  1015.8    1015.8      -\n",
       "3  Jan 06, 1984    1019  1029.3    1019    1029      1029      -\n",
       "4  Jan 09, 1984  1030.6  1035.4  1030.6  1034.6    1034.6      -"
      ]
     },
     "execution_count": 165,
     "metadata": {},
     "output_type": "execute_result"
    }
   ],
   "source": [
    "df_data_1 = pd.read_csv(body)\n",
    "df_data_1.head()"
   ]
  },
  {
   "cell_type": "code",
   "execution_count": 31,
   "metadata": {
    "collapsed": false
   },
   "outputs": [
    {
     "data": {
      "text/plain": [
       "(9432, 7)"
      ]
     },
     "execution_count": 31,
     "metadata": {},
     "output_type": "execute_result"
    }
   ],
   "source": [
    "df_data_1.shape"
   ]
  },
  {
   "cell_type": "markdown",
   "metadata": {},
   "source": [
    "***"
   ]
  },
  {
   "cell_type": "markdown",
   "metadata": {},
   "source": [
    "## Feature Engineering"
   ]
  },
  {
   "cell_type": "code",
   "execution_count": 32,
   "metadata": {
    "collapsed": false
   },
   "outputs": [
    {
     "data": {
      "text/html": [
       "<div>\n",
       "<style scoped>\n",
       "    .dataframe tbody tr th:only-of-type {\n",
       "        vertical-align: middle;\n",
       "    }\n",
       "\n",
       "    .dataframe tbody tr th {\n",
       "        vertical-align: top;\n",
       "    }\n",
       "\n",
       "    .dataframe thead th {\n",
       "        text-align: right;\n",
       "    }\n",
       "</style>\n",
       "<table border=\"1\" class=\"dataframe\">\n",
       "  <thead>\n",
       "    <tr style=\"text-align: right;\">\n",
       "      <th></th>\n",
       "      <th>Date</th>\n",
       "      <th>Close</th>\n",
       "    </tr>\n",
       "  </thead>\n",
       "  <tbody>\n",
       "    <tr>\n",
       "      <th>0</th>\n",
       "      <td>Jan 03, 1984</td>\n",
       "      <td>997.5</td>\n",
       "    </tr>\n",
       "    <tr>\n",
       "      <th>1</th>\n",
       "      <td>Jan 04, 1984</td>\n",
       "      <td>998.6</td>\n",
       "    </tr>\n",
       "    <tr>\n",
       "      <th>2</th>\n",
       "      <td>Jan 05, 1984</td>\n",
       "      <td>1015.8</td>\n",
       "    </tr>\n",
       "    <tr>\n",
       "      <th>3</th>\n",
       "      <td>Jan 06, 1984</td>\n",
       "      <td>1029</td>\n",
       "    </tr>\n",
       "    <tr>\n",
       "      <th>4</th>\n",
       "      <td>Jan 09, 1984</td>\n",
       "      <td>1034.6</td>\n",
       "    </tr>\n",
       "  </tbody>\n",
       "</table>\n",
       "</div>"
      ],
      "text/plain": [
       "           Date   Close\n",
       "0  Jan 03, 1984   997.5\n",
       "1  Jan 04, 1984   998.6\n",
       "2  Jan 05, 1984  1015.8\n",
       "3  Jan 06, 1984    1029\n",
       "4  Jan 09, 1984  1034.6"
      ]
     },
     "execution_count": 32,
     "metadata": {},
     "output_type": "execute_result"
    }
   ],
   "source": [
    "# Interested in the daily 'Close' price of this dataset, so can drop the other columns\n",
    "df_data_2 = df_data_1.drop(['Open','High','Low','Adj Close','Volume'], axis=1)\n",
    "df_data_2.head()"
   ]
  },
  {
   "cell_type": "markdown",
   "metadata": {},
   "source": [
    "#### Data Quality Assessment"
   ]
  },
  {
   "cell_type": "code",
   "execution_count": 33,
   "metadata": {
    "collapsed": false
   },
   "outputs": [
    {
     "name": "stdout",
     "output_type": "stream",
     "text": [
      "(9317, 2)\n"
     ]
    }
   ],
   "source": [
    "# Tidy up the data by removing rows where there is a '-' ie no data entry eg. public holidays.\n",
    "\n",
    "df_data_3 = df_data_2[df_data_2.Close != \"-\"]\n",
    "print(df_data_3.shape)"
   ]
  },
  {
   "cell_type": "code",
   "execution_count": 34,
   "metadata": {
    "collapsed": false
   },
   "outputs": [
    {
     "data": {
      "text/plain": [
       "Date     object\n",
       "Close    object\n",
       "dtype: object"
      ]
     },
     "execution_count": 34,
     "metadata": {},
     "output_type": "execute_result"
    }
   ],
   "source": [
    "# Investigate the type of data in each column\n",
    "df_data_3.dtypes"
   ]
  },
  {
   "cell_type": "code",
   "execution_count": 35,
   "metadata": {
    "collapsed": false
   },
   "outputs": [
    {
     "data": {
      "text/html": [
       "<div>\n",
       "<style scoped>\n",
       "    .dataframe tbody tr th:only-of-type {\n",
       "        vertical-align: middle;\n",
       "    }\n",
       "\n",
       "    .dataframe tbody tr th {\n",
       "        vertical-align: top;\n",
       "    }\n",
       "\n",
       "    .dataframe thead th {\n",
       "        text-align: right;\n",
       "    }\n",
       "</style>\n",
       "<table border=\"1\" class=\"dataframe\">\n",
       "  <thead>\n",
       "    <tr style=\"text-align: right;\">\n",
       "      <th></th>\n",
       "      <th>Date</th>\n",
       "      <th>Close</th>\n",
       "    </tr>\n",
       "  </thead>\n",
       "  <tbody>\n",
       "    <tr>\n",
       "      <th>0</th>\n",
       "      <td>Jan 03, 1984</td>\n",
       "      <td>997.5</td>\n",
       "    </tr>\n",
       "    <tr>\n",
       "      <th>1</th>\n",
       "      <td>Jan 04, 1984</td>\n",
       "      <td>998.6</td>\n",
       "    </tr>\n",
       "    <tr>\n",
       "      <th>2</th>\n",
       "      <td>Jan 05, 1984</td>\n",
       "      <td>1015.8</td>\n",
       "    </tr>\n",
       "    <tr>\n",
       "      <th>3</th>\n",
       "      <td>Jan 06, 1984</td>\n",
       "      <td>1029</td>\n",
       "    </tr>\n",
       "    <tr>\n",
       "      <th>4</th>\n",
       "      <td>Jan 09, 1984</td>\n",
       "      <td>1034.6</td>\n",
       "    </tr>\n",
       "  </tbody>\n",
       "</table>\n",
       "</div>"
      ],
      "text/plain": [
       "           Date   Close\n",
       "0  Jan 03, 1984   997.5\n",
       "1  Jan 04, 1984   998.6\n",
       "2  Jan 05, 1984  1015.8\n",
       "3  Jan 06, 1984    1029\n",
       "4  Jan 09, 1984  1034.6"
      ]
     },
     "execution_count": 35,
     "metadata": {},
     "output_type": "execute_result"
    }
   ],
   "source": [
    "df_data_3.head()"
   ]
  },
  {
   "cell_type": "code",
   "execution_count": 38,
   "metadata": {
    "collapsed": false
   },
   "outputs": [
    {
     "data": {
      "text/plain": [
       "Date      object\n",
       "Close    float64\n",
       "dtype: object"
      ]
     },
     "execution_count": 38,
     "metadata": {},
     "output_type": "execute_result"
    }
   ],
   "source": [
    "# Convert our primary data column 'Close' to float\n",
    "df_data_3.Close = df_data_3.Close.astype(float)\n",
    "df_data_3.dtypes"
   ]
  },
  {
   "cell_type": "markdown",
   "metadata": {},
   "source": [
    "#### Data Exploration"
   ]
  },
  {
   "cell_type": "code",
   "execution_count": 62,
   "metadata": {
    "collapsed": false
   },
   "outputs": [
    {
     "data": {
      "image/png": "[encoded data removed]",
      "text/plain": [
       "<Figure size 432x288 with 1 Axes>"
      ]
     },
     "metadata": {
      "needs_background": "light"
     },
     "output_type": "display_data"
    }
   ],
   "source": [
    "# Initial Data Visualisation\n",
    "\n",
    "import matplotlib.pyplot as plt\n",
    "\n",
    "df_data_3_plot = df_data_3.iloc[:,1:2].values.astype(float)\n",
    "# Visualising the Data\n",
    "plt.plot(df_data_3_plot, color = 'green', label = 'Actual')\n",
    "plt.title('FTSE 100 Index - Historical Data')\n",
    "plt.xlabel('Time (Days since inception, 1 Jan 1984)')\n",
    "plt.ylabel('Index')\n",
    "plt.legend()\n",
    "plt.show()"
   ]
  },
  {
   "cell_type": "code",
   "execution_count": 103,
   "metadata": {
    "collapsed": false
   },
   "outputs": [
    {
     "name": "stdout",
     "output_type": "stream",
     "text": [
      "8320\n",
      "8320\n"
     ]
    }
   ],
   "source": [
    "# Determine training set size - ie. modulo zero, given batch_size 128 as starting point (TO BE ITERATED)\n",
    "\n",
    "batch_size = 128\n",
    "\n",
    "\n",
    "def get_train_length(dataset, batch_size, test_percent):\n",
    "    # substract test_percent to be excluded from training, reserved for testset\n",
    "    length = len(dataset)\n",
    "    length *= 1 - test_percent\n",
    "    train_length_values = []\n",
    "    for x in range(int(length) - 100,int(length)): \n",
    "        modulo=x%batch_size\n",
    "        if (modulo == 0):\n",
    "            train_length_values.append(x)\n",
    "            print(x)\n",
    "    return (max(train_length_values))\n",
    "\n",
    "\n",
    "length = get_train_length(df_data_3, batch_size, 0.1)\n",
    "print(length)"
   ]
  },
  {
   "cell_type": "code",
   "execution_count": 104,
   "metadata": {
    "collapsed": false
   },
   "outputs": [
    {
     "data": {
      "text/plain": [
       "(8348, 1)"
      ]
     },
     "execution_count": 104,
     "metadata": {},
     "output_type": "execute_result"
    }
   ],
   "source": [
    "# Add timesteps * 2\n",
    "# Use 14 timesteps - will provide a FORTNIGHT window of historic data on which to predict the following fortnight\n",
    "# Create a single feature dataset for training\n",
    "\n",
    "timesteps = 14\n",
    "\n",
    "upper_train = length + timesteps*2\n",
    "df_data_3_train = df_data_3[0:upper_train]\n",
    "training_set = df_data_3_train.iloc[:,1:2].values\n",
    "training_set.shape"
   ]
  },
  {
   "cell_type": "code",
   "execution_count": 105,
   "metadata": {
    "collapsed": false
   },
   "outputs": [
    {
     "data": {
      "text/plain": [
       "(8348, 1)"
      ]
     },
     "execution_count": 105,
     "metadata": {},
     "output_type": "execute_result"
    }
   ],
   "source": [
    "# Feature Scaling - between zero to 1\n",
    "\n",
    "from sklearn.preprocessing import MinMaxScaler\n",
    "import numpy as np\n",
    "\n",
    "sc = MinMaxScaler(feature_range = (0, 1))\n",
    "training_set_scaled = sc.fit_transform(np.float64(training_set))\n",
    "training_set_scaled.shape"
   ]
  },
  {
   "cell_type": "code",
   "execution_count": 106,
   "metadata": {
    "collapsed": false
   },
   "outputs": [
    {
     "name": "stdout",
     "output_type": "stream",
     "text": [
      "8334\n",
      "8320\n",
      "8320\n",
      "[array([0.00173285, 0.00191267, 0.00472446, 0.00688235, 0.00779781,\n",
      "       0.00774877, 0.00596688, 0.00725834, 0.00912197, 0.00966144,\n",
      "       0.00899119, 0.01173759, 0.01159046, 0.01178663]), array([0.00191267, 0.00472446, 0.00688235, 0.00779781, 0.00774877,\n",
      "       0.00596688, 0.00725834, 0.00912197, 0.00966144, 0.00899119,\n",
      "       0.01173759, 0.01159046, 0.01178663, 0.00979222])]\n",
      "(8320, 14)\n",
      "[array([0.00979222, 0.01116542, 0.01415704, 0.01392817, 0.01454938,\n",
      "       0.013356  , 0.01244054, 0.01199915, 0.01044613, 0.01191741,\n",
      "       0.00838633, 0.00568897, 0.00699678, 0.00490428]), array([0.01116542, 0.01415704, 0.01392817, 0.01454938, 0.013356  ,\n",
      "       0.01244054, 0.01199915, 0.01044613, 0.01191741, 0.00838633,\n",
      "       0.00568897, 0.00699678, 0.00490428, 0.00508411])]\n",
      "(8320, 14)\n"
     ]
    }
   ],
   "source": [
    "# Create training set arrays\n",
    "\n",
    "X_train = []\n",
    "y_train = []\n",
    "\n",
    "# Data structure with 14 timesteps\n",
    "\n",
    "print(length + timesteps)\n",
    "for i in range(timesteps, length + timesteps): \n",
    "    X_train.append(training_set_scaled[i-timesteps:i,0])\n",
    "    y_train.append(training_set_scaled[i:i+timesteps,0])\n",
    "\n",
    "print(len(X_train))\n",
    "print(len(y_train))\n",
    "#create X_train matrix\n",
    "#14 items per array (timestep) \n",
    "print(X_train[0:2])\n",
    "print(np.array(X_train).shape)\n",
    "#create Y_train matrix\n",
    "#14 items per array (timestep) \n",
    "print(y_train[0:2])\n",
    "print(np.array(y_train).shape)"
   ]
  },
  {
   "cell_type": "code",
   "execution_count": 107,
   "metadata": {
    "collapsed": true
   },
   "outputs": [],
   "source": [
    "# Function to determine test set - ie. modulo zero, given batch_size 64 as starting point (TO BE ITERATED)\n",
    "\n",
    "def get_test_length(dataset, batch_size):\n",
    "    \n",
    "    test_length_values = []\n",
    "    for x in range(len(dataset) - 200, len(dataset) - timesteps*2): \n",
    "        modulo=(x-upper_train)%batch_size\n",
    "        if (modulo == 0):\n",
    "            test_length_values.append(x)\n",
    "            print(x)\n",
    "    return (max(test_length_values))"
   ]
  },
  {
   "cell_type": "code",
   "execution_count": 108,
   "metadata": {
    "collapsed": false
   },
   "outputs": [
    {
     "name": "stdout",
     "output_type": "stream",
     "text": [
      "(8320, 14, 1)\n",
      "(8320, 14, 1)\n"
     ]
    }
   ],
   "source": [
    "# Reshape to Tensor for model input\n",
    "\n",
    "X_train, y_train = np.array(X_train), np.array(y_train)\n",
    "X_train = np.reshape(X_train, (X_train.shape[0], X_train.shape[1], 1))\n",
    "y_train = np.reshape(y_train, (y_train.shape[0], y_train.shape[1], 1))\n",
    "print(X_train.shape)\n",
    "print(y_train.shape)"
   ]
  },
  {
   "cell_type": "code",
   "execution_count": 109,
   "metadata": {
    "collapsed": false
   },
   "outputs": [
    {
     "name": "stdout",
     "output_type": "stream",
     "text": [
      "9244\n",
      "9244\n",
      "896\n"
     ]
    }
   ],
   "source": [
    "# Establish test set size\n",
    "\n",
    "test_length = get_test_length(df_data_3, batch_size)\n",
    "print(test_length)\n",
    "upper_test = test_length + timesteps*2\n",
    "testset_length = test_length - upper_train\n",
    "print(testset_length)"
   ]
  },
  {
   "cell_type": "code",
   "execution_count": 110,
   "metadata": {
    "collapsed": false
   },
   "outputs": [
    {
     "name": "stdout",
     "output_type": "stream",
     "text": [
      "8348 9272 9317\n"
     ]
    }
   ],
   "source": [
    "print(upper_train, upper_test, len(df_data_3))"
   ]
  },
  {
   "cell_type": "code",
   "execution_count": 111,
   "metadata": {
    "collapsed": true
   },
   "outputs": [],
   "source": [
    "# Create test set array using same steps as for training set\n",
    "\n",
    "# Subset\n",
    "df_data_3_test = df_data_3[upper_train:upper_test] \n",
    "test_set = df_data_3_test.iloc[:,1:2].values\n",
    "\n",
    "# Normalize\n",
    "scaled_real_bcg_values_test = sc.fit_transform(np.float64(test_set))\n",
    "\n",
    "# Create input data\n",
    "X_test = []\n",
    "for i in range(timesteps, testset_length + timesteps):\n",
    "    X_test.append(scaled_real_bcg_values_test[i-timesteps:i, 0])\n",
    "X_test = np.array(X_test)\n",
    "\n",
    "\n",
    "# Reshape to Tensor\n",
    "X_test = np.reshape(X_test, (X_test.shape[0], X_test.shape[1], 1))"
   ]
  },
  {
   "cell_type": "code",
   "execution_count": 112,
   "metadata": {
    "collapsed": false
   },
   "outputs": [
    {
     "data": {
      "text/plain": [
       "(896, 14, 1)"
      ]
     },
     "execution_count": 112,
     "metadata": {},
     "output_type": "execute_result"
    }
   ],
   "source": [
    "X_test.shape"
   ]
  },
  {
   "cell_type": "markdown",
   "metadata": {},
   "source": [
    "***"
   ]
  },
  {
   "cell_type": "markdown",
   "metadata": {},
   "source": [
    "## Model Training / Evaluation"
   ]
  },
  {
   "cell_type": "code",
   "execution_count": 50,
   "metadata": {
    "collapsed": true
   },
   "outputs": [],
   "source": [
    "# Import libraries\n",
    "from keras.preprocessing import sequence\n",
    "from keras.models import load_model"
   ]
  },
  {
   "cell_type": "code",
   "execution_count": 51,
   "metadata": {
    "collapsed": true
   },
   "outputs": [],
   "source": [
    "# Define: epochs - 10 as a start (due significant computation time - approximately 8 minutes per epoch!)\n",
    "# Define: number of LST nodes - 8 as start\n",
    "\n",
    "epochs = 10\n",
    "nodes = 10"
   ]
  },
  {
   "cell_type": "code",
   "execution_count": 52,
   "metadata": {
    "collapsed": true
   },
   "outputs": [],
   "source": [
    "# Import libraries\n",
    "\n",
    "from keras.layers import Dense\n",
    "from keras.layers import Input, LSTM\n",
    "from keras.models import Model\n",
    "import h5py"
   ]
  },
  {
   "cell_type": "code",
   "execution_count": 53,
   "metadata": {
    "collapsed": false
   },
   "outputs": [
    {
     "name": "stdout",
     "output_type": "stream",
     "text": [
      "WARNING:tensorflow:From /opt/conda/envs/Python36/lib/python3.6/site-packages/tensorflow/python/framework/op_def_library.py:263: colocate_with (from tensorflow.python.framework.ops) is deprecated and will be removed in a future version.\n",
      "Instructions for updating:\n",
      "Colocations handled automatically by placer.\n",
      "_________________________________________________________________\n",
      "Layer (type)                 Output Shape              Param #   \n",
      "=================================================================\n",
      "input_1 (InputLayer)         (128, 14, 1)              0         \n",
      "_________________________________________________________________\n",
      "lstm_1 (LSTM)                (128, 14, 10)             480       \n",
      "_________________________________________________________________\n",
      "lstm_2 (LSTM)                (128, 14, 10)             840       \n",
      "_________________________________________________________________\n",
      "dense_1 (Dense)              (128, 14, 1)              11        \n",
      "=================================================================\n",
      "Total params: 1,331\n",
      "Trainable params: 1,331\n",
      "Non-trainable params: 0\n",
      "_________________________________________________________________\n"
     ]
    }
   ],
   "source": [
    "# Initialise the LSTM Model v1 with MAE Loss-Function, using Functional API, Batch Size 128\n",
    "\n",
    "inputs_1_mae = Input(batch_shape=(batch_size,timesteps,1))\n",
    "lstm_1_mae = LSTM(nodes, stateful=True, return_sequences=True)(inputs_1_mae)\n",
    "lstm_2_mae = LSTM(nodes, stateful=True, return_sequences=True)(lstm_1_mae)\n",
    "\n",
    "output_1_mae = Dense(units = 1)(lstm_2_mae)\n",
    "\n",
    "regressor_mae = Model(inputs=inputs_1_mae, outputs = output_1_mae)\n",
    "\n",
    "# Use 'adam' initially, but iterate over others\n",
    "\n",
    "regressor_mae.compile(optimizer='adam', loss = 'mae')\n",
    "regressor_mae.summary()"
   ]
  },
  {
   "cell_type": "code",
   "execution_count": 54,
   "metadata": {
    "collapsed": true
   },
   "outputs": [],
   "source": [
    "# Workaround to limit resource consumption\n",
    "\n",
    "from keras import backend as K\n",
    "\n",
    "K.set_session(K.tf.Session(config=K.tf.ConfigProto(intra_op_parallelism_threads=1, inter_op_parallelism_threads=1)))"
   ]
  },
  {
   "cell_type": "code",
   "execution_count": 60,
   "metadata": {
    "collapsed": false
   },
   "outputs": [
    {
     "name": "stdout",
     "output_type": "stream",
     "text": [
      "Epoch: 0\n",
      "WARNING:tensorflow:From /opt/conda/envs/Python36/lib/python3.6/site-packages/tensorflow/python/ops/math_ops.py:3066: to_int32 (from tensorflow.python.ops.math_ops) is deprecated and will be removed in a future version.\n",
      "Instructions for updating:\n",
      "Use tf.cast instead.\n",
      "Epoch 1/1\n",
      "8320/8320 [==============================] - 305s 37ms/step - loss: 0.0655\n",
      "Epoch: 1\n",
      "Epoch 1/1\n",
      "8320/8320 [==============================] - 337s 40ms/step - loss: 0.0970\n",
      "Epoch: 2\n",
      "Epoch 1/1\n",
      "8320/8320 [==============================] - 356s 43ms/step - loss: 0.0599\n",
      "Epoch: 3\n",
      "Epoch 1/1\n",
      "8320/8320 [==============================] - 331s 40ms/step - loss: 0.0504\n",
      "Epoch: 4\n",
      "Epoch 1/1\n",
      "8320/8320 [==============================] - 356s 43ms/step - loss: 0.0410\n",
      "Epoch: 5\n",
      "Epoch 1/1\n",
      "8320/8320 [==============================] - 358s 43ms/step - loss: 0.0473\n",
      "Epoch: 6\n",
      "Epoch 1/1\n",
      "8320/8320 [==============================] - 351s 42ms/step - loss: 0.0435\n",
      "Epoch: 7\n",
      "Epoch 1/1\n",
      "8320/8320 [==============================] - 341s 41ms/step - loss: 0.0407\n",
      "Epoch: 8\n",
      "Epoch 1/1\n",
      "8320/8320 [==============================] - 327s 39ms/step - loss: 0.0398\n",
      "Epoch: 9\n",
      "Epoch 1/1\n",
      "8320/8320 [==============================] - 338s 41ms/step - loss: 0.0395\n"
     ]
    }
   ],
   "source": [
    "# Run model\n",
    "\n",
    "for i in range(epochs):\n",
    "    print(\"Epoch: \" + str(i))\n",
    "    regressor_mae.fit(X_train, y_train, shuffle=False, epochs = 1, batch_size = batch_size)\n",
    "    regressor_mae.reset_states()"
   ]
  },
  {
   "cell_type": "code",
   "execution_count": 68,
   "metadata": {
    "collapsed": true
   },
   "outputs": [],
   "source": [
    "# Save model\n",
    "import h5py\n",
    "regressor_mae.save(filepath=\"FTSE_model_with_mae_14_ts.h5\")"
   ]
  },
  {
   "cell_type": "code",
   "execution_count": 69,
   "metadata": {
    "collapsed": true
   },
   "outputs": [],
   "source": [
    "# load model\n",
    "import h5py\n",
    "regressor_mae = load_model(filepath=\"FTSE_model_with_mae_14_ts.h5\")"
   ]
  },
  {
   "cell_type": "code",
   "execution_count": 70,
   "metadata": {
    "collapsed": false
   },
   "outputs": [
    {
     "name": "stdout",
     "output_type": "stream",
     "text": [
      "(896, 14, 1)\n",
      "(896, 14)\n",
      "(882, 1)\n"
     ]
    }
   ],
   "source": [
    "# Prediction\n",
    "\n",
    "predicted_bcg_values_test_mae = regressor_mae.predict(X_test, batch_size=batch_size)\n",
    "regressor_mae.reset_states()\n",
    "\n",
    "print(predicted_bcg_values_test_mae.shape)\n",
    "\n",
    "#reshaping\n",
    "predicted_bcg_values_test_mae = np.reshape(predicted_bcg_values_test_mae, \n",
    "                                       (predicted_bcg_values_test_mae.shape[0], \n",
    "                                        predicted_bcg_values_test_mae.shape[1]))\n",
    "\n",
    "print(predicted_bcg_values_test_mae.shape)\n",
    "#inverse transform\n",
    "predicted_bcg_values_test_mae = sc.inverse_transform(predicted_bcg_values_test_mae)\n",
    "\n",
    "\n",
    "#creating y_test data\n",
    "y_test = []\n",
    "for j in range(0, testset_length - timesteps):\n",
    "    y_test = np.append(y_test, predicted_bcg_values_test_mae[j, timesteps-1])\n",
    "\n",
    "# reshaping\n",
    "y_test = np.reshape(y_test, (y_test.shape[0], 1))\n",
    "\n",
    "print(y_test.shape)"
   ]
  },
  {
   "cell_type": "code",
   "execution_count": 74,
   "metadata": {
    "collapsed": false
   },
   "outputs": [
    {
     "data": {
      "image/png": "[encoded data removed]",
      "text/plain": [
       "<Figure size 432x288 with 1 Axes>"
      ]
     },
     "metadata": {
      "needs_background": "light"
     },
     "output_type": "display_data"
    }
   ],
   "source": [
    "# Visualising the results\n",
    "plt.plot(test_set[timesteps:len(y_test)].astype(float), color = 'red', label = 'Actual')\n",
    "plt.plot(y_test[0:len(y_test) - timesteps].astype(float), color = 'blue', label = 'Predicted')\n",
    "plt.title('FTSE Index Prediction - MAE')\n",
    "plt.xlabel('Time (Days)')\n",
    "plt.ylabel('Index')\n",
    "plt.legend()\n",
    "#plt.xlim(0,100)\n",
    "plt.show()"
   ]
  },
  {
   "cell_type": "code",
   "execution_count": 75,
   "metadata": {
    "collapsed": false
   },
   "outputs": [
    {
     "name": "stdout",
     "output_type": "stream",
     "text": [
      "174.07560307896162\n"
     ]
    }
   ],
   "source": [
    "# MSE (mean squared error)\n",
    "import math\n",
    "from sklearn.metrics import mean_squared_error\n",
    "rmse = math.sqrt(mean_squared_error(test_set[timesteps:len(y_test)], y_test[0:len(y_test) - timesteps]))\n",
    "print(rmse)"
   ]
  },
  {
   "cell_type": "code",
   "execution_count": 76,
   "metadata": {
    "collapsed": false
   },
   "outputs": [
    {
     "name": "stdout",
     "output_type": "stream",
     "text": [
      "123.76650199362759\n"
     ]
    }
   ],
   "source": [
    "# MAE (mean absolute error)\n",
    "from sklearn.metrics import mean_absolute_error\n",
    "mae = mean_absolute_error(test_set[timesteps:len(y_test)], y_test[0:len(y_test) - timesteps])\n",
    "print(mae)"
   ]
  },
  {
   "cell_type": "code",
   "execution_count": 80,
   "metadata": {
    "collapsed": true
   },
   "outputs": [],
   "source": [
    "# evaluate model by reducing the batch size to 64\n",
    "\n",
    "batch_size = 64"
   ]
  },
  {
   "cell_type": "code",
   "execution_count": 81,
   "metadata": {
    "collapsed": false
   },
   "outputs": [
    {
     "name": "stdout",
     "output_type": "stream",
     "text": [
      "8320\n",
      "8384\n",
      "8384\n"
     ]
    }
   ],
   "source": [
    "# Determine training set size - ie. modulo zero, given batch_size 64 as starting point (TO BE ITERATED)\n",
    "\n",
    "def get_train_length(dataset, batch_size, test_percent):\n",
    "    # substract test_percent to be excluded from training, reserved for testset\n",
    "    length = len(dataset)\n",
    "    length *= 1 - test_percent\n",
    "    train_length_values = []\n",
    "    for x in range(int(length) - 100,int(length)): \n",
    "        modulo=x%batch_size\n",
    "        if (modulo == 0):\n",
    "            train_length_values.append(x)\n",
    "            print(x)\n",
    "    return (max(train_length_values))\n",
    "\n",
    "\n",
    "length = get_train_length(df_data_3, batch_size, 0.1)\n",
    "print(length)"
   ]
  },
  {
   "cell_type": "code",
   "execution_count": 82,
   "metadata": {
    "collapsed": false
   },
   "outputs": [
    {
     "data": {
      "text/plain": [
       "(8412, 1)"
      ]
     },
     "execution_count": 82,
     "metadata": {},
     "output_type": "execute_result"
    }
   ],
   "source": [
    "# Add timesteps * 2\n",
    "# Use 14 timesteps - will provide a FORTNIGHT window of historic data on which to predict the following fortnight\n",
    "# Create a single feature dataset for training\n",
    "\n",
    "timesteps = 14\n",
    "\n",
    "upper_train = length + timesteps*2\n",
    "df_data_3_train = df_data_3[0:upper_train]\n",
    "training_set = df_data_3_train.iloc[:,1:2].values\n",
    "training_set.shape"
   ]
  },
  {
   "cell_type": "code",
   "execution_count": 83,
   "metadata": {
    "collapsed": false
   },
   "outputs": [
    {
     "data": {
      "text/plain": [
       "(8412, 1)"
      ]
     },
     "execution_count": 83,
     "metadata": {},
     "output_type": "execute_result"
    }
   ],
   "source": [
    "# Feature Scaling - between zero to 1\n",
    "\n",
    "from sklearn.preprocessing import MinMaxScaler\n",
    "import numpy as np\n",
    "\n",
    "sc = MinMaxScaler(feature_range = (0, 1))\n",
    "training_set_scaled = sc.fit_transform(np.float64(training_set))\n",
    "training_set_scaled.shape"
   ]
  },
  {
   "cell_type": "code",
   "execution_count": 84,
   "metadata": {
    "collapsed": false
   },
   "outputs": [
    {
     "name": "stdout",
     "output_type": "stream",
     "text": [
      "8398\n",
      "8384\n",
      "8384\n",
      "[array([0.00168107, 0.00185552, 0.0045833 , 0.00667671, 0.00756482,\n",
      "       0.00751725, 0.0057886 , 0.00704147, 0.00884942, 0.00937277,\n",
      "       0.00872254, 0.01138688, 0.01124415, 0.01143446]), array([0.00185552, 0.0045833 , 0.00667671, 0.00756482, 0.00751725,\n",
      "       0.0057886 , 0.00704147, 0.00884942, 0.00937277, 0.00872254,\n",
      "       0.01138688, 0.01124415, 0.01143446, 0.00949964])]\n",
      "(8384, 14)\n",
      "[array([0.00949964, 0.01083181, 0.01373404, 0.01351201, 0.01411466,\n",
      "       0.01295694, 0.01206883, 0.01164063, 0.01013401, 0.01156134,\n",
      "       0.00813575, 0.00551899, 0.00678773, 0.00475775]), array([0.01083181, 0.01373404, 0.01351201, 0.01411466, 0.01295694,\n",
      "       0.01206883, 0.01164063, 0.01013401, 0.01156134, 0.00813575,\n",
      "       0.00551899, 0.00678773, 0.00475775, 0.0049322 ])]\n",
      "(8384, 14)\n"
     ]
    }
   ],
   "source": [
    "# Create training set arrays\n",
    "\n",
    "X_train = []\n",
    "y_train = []\n",
    "\n",
    "# Data structure with 14 timesteps\n",
    "\n",
    "print(length + timesteps)\n",
    "for i in range(timesteps, length + timesteps): \n",
    "    X_train.append(training_set_scaled[i-timesteps:i,0])\n",
    "    y_train.append(training_set_scaled[i:i+timesteps,0])\n",
    "\n",
    "print(len(X_train))\n",
    "print(len(y_train))\n",
    "#create X_train matrix\n",
    "#14 items per array (timestep) \n",
    "print(X_train[0:2])\n",
    "print(np.array(X_train).shape)\n",
    "#create Y_train matrix\n",
    "#14 items per array (timestep) \n",
    "print(y_train[0:2])\n",
    "print(np.array(y_train).shape)"
   ]
  },
  {
   "cell_type": "code",
   "execution_count": 85,
   "metadata": {
    "collapsed": true
   },
   "outputs": [],
   "source": [
    "# Function to determine test set -  - ie. modulo zero, given batch_size 64 as starting point (TO BE ITERATED)\n",
    "\n",
    "def get_test_length(dataset, batch_size):\n",
    "    \n",
    "    test_length_values = []\n",
    "    for x in range(len(dataset) - 200, len(dataset) - timesteps*2): \n",
    "        modulo=(x-upper_train)%batch_size\n",
    "        if (modulo == 0):\n",
    "            test_length_values.append(x)\n",
    "            print(x)\n",
    "    return (max(test_length_values))"
   ]
  },
  {
   "cell_type": "code",
   "execution_count": 86,
   "metadata": {
    "collapsed": false
   },
   "outputs": [
    {
     "name": "stdout",
     "output_type": "stream",
     "text": [
      "(8384, 14, 1)\n",
      "(8384, 14, 1)\n"
     ]
    }
   ],
   "source": [
    "# Reshape to Tensor for model input\n",
    "\n",
    "X_train, y_train = np.array(X_train), np.array(y_train)\n",
    "X_train = np.reshape(X_train, (X_train.shape[0], X_train.shape[1], 1))\n",
    "y_train = np.reshape(y_train, (y_train.shape[0], y_train.shape[1], 1))\n",
    "print(X_train.shape)\n",
    "print(y_train.shape)"
   ]
  },
  {
   "cell_type": "code",
   "execution_count": 87,
   "metadata": {
    "collapsed": false
   },
   "outputs": [
    {
     "name": "stdout",
     "output_type": "stream",
     "text": [
      "9180\n",
      "9244\n",
      "9244\n",
      "832\n"
     ]
    }
   ],
   "source": [
    "# Establish test set size\n",
    "\n",
    "test_length = get_test_length(df_data_3, batch_size)\n",
    "print(test_length)\n",
    "upper_test = test_length + timesteps*2\n",
    "testset_length = test_length - upper_train\n",
    "print(testset_length)"
   ]
  },
  {
   "cell_type": "code",
   "execution_count": 88,
   "metadata": {
    "collapsed": false
   },
   "outputs": [
    {
     "name": "stdout",
     "output_type": "stream",
     "text": [
      "8412 9272 9317\n"
     ]
    }
   ],
   "source": [
    "print(upper_train, upper_test, len(df_data_3))"
   ]
  },
  {
   "cell_type": "code",
   "execution_count": 89,
   "metadata": {
    "collapsed": true
   },
   "outputs": [],
   "source": [
    "# Create test set array using same steps as for training set\n",
    "\n",
    "# Subset\n",
    "df_data_3_test = df_data_3[upper_train:upper_test] \n",
    "test_set = df_data_3_test.iloc[:,1:2].values\n",
    "\n",
    "# Normalize\n",
    "scaled_real_bcg_values_test = sc.fit_transform(np.float64(test_set))\n",
    "\n",
    "# Create input data\n",
    "X_test = []\n",
    "for i in range(timesteps, testset_length + timesteps):\n",
    "    X_test.append(scaled_real_bcg_values_test[i-timesteps:i, 0])\n",
    "X_test = np.array(X_test)\n",
    "\n",
    "\n",
    "# Reshape to Tensor\n",
    "X_test = np.reshape(X_test, (X_test.shape[0], X_test.shape[1], 1))"
   ]
  },
  {
   "cell_type": "code",
   "execution_count": 90,
   "metadata": {
    "collapsed": false
   },
   "outputs": [
    {
     "data": {
      "text/plain": [
       "(832, 14, 1)"
      ]
     },
     "execution_count": 90,
     "metadata": {},
     "output_type": "execute_result"
    }
   ],
   "source": [
    "X_test.shape"
   ]
  },
  {
   "cell_type": "code",
   "execution_count": 91,
   "metadata": {
    "collapsed": false
   },
   "outputs": [
    {
     "name": "stdout",
     "output_type": "stream",
     "text": [
      "_________________________________________________________________\n",
      "Layer (type)                 Output Shape              Param #   \n",
      "=================================================================\n",
      "input_3 (InputLayer)         (64, 14, 1)               0         \n",
      "_________________________________________________________________\n",
      "lstm_5 (LSTM)                (64, 14, 10)              480       \n",
      "_________________________________________________________________\n",
      "lstm_6 (LSTM)                (64, 14, 10)              840       \n",
      "_________________________________________________________________\n",
      "dense_3 (Dense)              (64, 14, 1)               11        \n",
      "=================================================================\n",
      "Total params: 1,331\n",
      "Trainable params: 1,331\n",
      "Non-trainable params: 0\n",
      "_________________________________________________________________\n"
     ]
    }
   ],
   "source": [
    "# Initialise the LSTM Model v2 with MAE Loss-Function, using Functional API, Batch Size 64\n",
    "\n",
    "inputs_1_mae = Input(batch_shape=(batch_size,timesteps,1))\n",
    "lstm_1_mae = LSTM(nodes, stateful=True, return_sequences=True)(inputs_1_mae)\n",
    "lstm_2_mae = LSTM(nodes, stateful=True, return_sequences=True)(lstm_1_mae)\n",
    "\n",
    "output_1_mae = Dense(units = 1)(lstm_2_mae)\n",
    "\n",
    "regressor_mae = Model(inputs=inputs_1_mae, outputs = output_1_mae)\n",
    "\n",
    "# Use 'adam' initially, but iterate over others\n",
    "\n",
    "regressor_mae.compile(optimizer='adam', loss = 'mae')\n",
    "regressor_mae.summary()"
   ]
  },
  {
   "cell_type": "code",
   "execution_count": 92,
   "metadata": {
    "collapsed": false
   },
   "outputs": [
    {
     "name": "stdout",
     "output_type": "stream",
     "text": [
      "Epoch: 0\n",
      "Epoch 1/1\n",
      "8384/8384 [==============================] - 682s 81ms/step - loss: 0.0614\n",
      "Epoch: 1\n",
      "Epoch 1/1\n",
      "8384/8384 [==============================] - 687s 82ms/step - loss: 0.0907\n",
      "Epoch: 2\n",
      "Epoch 1/1\n",
      "8384/8384 [==============================] - 726s 87ms/step - loss: 0.0655\n",
      "Epoch: 3\n",
      "Epoch 1/1\n",
      "8384/8384 [==============================] - 672s 80ms/step - loss: 0.0562\n",
      "Epoch: 4\n",
      "Epoch 1/1\n",
      "8384/8384 [==============================] - 693s 83ms/step - loss: 0.0466\n",
      "Epoch: 5\n",
      "Epoch 1/1\n",
      "8384/8384 [==============================] - 676s 81ms/step - loss: 0.0478\n",
      "Epoch: 6\n",
      "Epoch 1/1\n",
      "8384/8384 [==============================] - 683s 82ms/step - loss: 0.0425\n",
      "Epoch: 7\n",
      "Epoch 1/1\n",
      "8384/8384 [==============================] - 676s 81ms/step - loss: 0.0452\n",
      "Epoch: 8\n",
      "Epoch 1/1\n",
      "8384/8384 [==============================] - 683s 82ms/step - loss: 0.0400\n",
      "Epoch: 9\n",
      "Epoch 1/1\n",
      "8384/8384 [==============================] - 697s 83ms/step - loss: 0.0422\n"
     ]
    }
   ],
   "source": [
    "# Run model\n",
    "\n",
    "for i in range(epochs):\n",
    "    print(\"Epoch: \" + str(i))\n",
    "    regressor_mae.fit(X_train, y_train, shuffle=False, epochs = 1, batch_size = batch_size)\n",
    "    regressor_mae.reset_states()"
   ]
  },
  {
   "cell_type": "code",
   "execution_count": 93,
   "metadata": {
    "collapsed": false
   },
   "outputs": [
    {
     "name": "stdout",
     "output_type": "stream",
     "text": [
      "(832, 14, 1)\n",
      "(832, 14)\n",
      "(818, 1)\n"
     ]
    }
   ],
   "source": [
    "# Prediction\n",
    "\n",
    "predicted_bcg_values_test_mae = regressor_mae.predict(X_test, batch_size=batch_size)\n",
    "regressor_mae.reset_states()\n",
    "\n",
    "print(predicted_bcg_values_test_mae.shape)\n",
    "\n",
    "#reshaping\n",
    "predicted_bcg_values_test_mae = np.reshape(predicted_bcg_values_test_mae, \n",
    "                                       (predicted_bcg_values_test_mae.shape[0], \n",
    "                                        predicted_bcg_values_test_mae.shape[1]))\n",
    "\n",
    "print(predicted_bcg_values_test_mae.shape)\n",
    "#inverse transform\n",
    "predicted_bcg_values_test_mae = sc.inverse_transform(predicted_bcg_values_test_mae)\n",
    "\n",
    "\n",
    "#creating y_test data\n",
    "y_test = []\n",
    "for j in range(0, testset_length - timesteps):\n",
    "    y_test = np.append(y_test, predicted_bcg_values_test_mae[j, timesteps-1])\n",
    "\n",
    "# reshaping\n",
    "y_test = np.reshape(y_test, (y_test.shape[0], 1))\n",
    "\n",
    "print(y_test.shape)"
   ]
  },
  {
   "cell_type": "code",
   "execution_count": 94,
   "metadata": {
    "collapsed": false
   },
   "outputs": [
    {
     "data": {
      "image/png": "[encoded data removed]",
      "text/plain": [
       "<Figure size 432x288 with 1 Axes>"
      ]
     },
     "metadata": {
      "needs_background": "light"
     },
     "output_type": "display_data"
    }
   ],
   "source": [
    "# Visualising the results\n",
    "plt.plot(test_set[timesteps:len(y_test)].astype(float), color = 'red', label = 'Actual')\n",
    "plt.plot(y_test[0:len(y_test) - timesteps].astype(float), color = 'blue', label = 'Predicted')\n",
    "plt.title('FTSE Index Prediction - MAE v2')\n",
    "plt.xlabel('Time (Days)')\n",
    "plt.ylabel('Index')\n",
    "plt.legend()\n",
    "#plt.xlim(0,100)\n",
    "plt.show()"
   ]
  },
  {
   "cell_type": "code",
   "execution_count": 95,
   "metadata": {
    "collapsed": false
   },
   "outputs": [
    {
     "name": "stdout",
     "output_type": "stream",
     "text": [
      "299.2492261917278\n"
     ]
    }
   ],
   "source": [
    "# MSE (mean squared error)\n",
    "\n",
    "rmse = math.sqrt(mean_squared_error(test_set[timesteps:len(y_test)], y_test[0:len(y_test) - timesteps]))\n",
    "print(rmse)"
   ]
  },
  {
   "cell_type": "code",
   "execution_count": 96,
   "metadata": {
    "collapsed": false
   },
   "outputs": [
    {
     "name": "stdout",
     "output_type": "stream",
     "text": [
      "235.2814229633085\n"
     ]
    }
   ],
   "source": [
    "# MAE (mean absolut error)\n",
    "\n",
    "mae = mean_absolute_error(test_set[timesteps:len(y_test)], y_test[0:len(y_test) - timesteps])\n",
    "print(mae)"
   ]
  },
  {
   "cell_type": "code",
   "execution_count": 100,
   "metadata": {
    "collapsed": false
   },
   "outputs": [
    {
     "name": "stdout",
     "output_type": "stream",
     "text": [
      "7295.700248756219\n"
     ]
    }
   ],
   "source": [
    "# Mean value of testset\n",
    "\n",
    "predicted_bcg_values_test_mae = np.reshape(predicted_bcg_values_test_mae, \n",
    "                                       (predicted_bcg_values_test_mae.shape[0], \n",
    "                                        predicted_bcg_values_test_mae.shape[1]))\n",
    "predicted_bcg_values_test_mae = sc.inverse_transform(predicted_bcg_values_test_mae)\n",
    "\n",
    "\n",
    "pred_mae = []\n",
    "\n",
    "for j in range(0, testset_length - timesteps):\n",
    "    pred_mae = np.append(pred_mae, predicted_bcg_values_test_mae[j, timesteps-1])\n",
    "\n",
    "pred_mae = np.reshape(pred_mae, (pred_mae.shape[0], 1))\n",
    "\n",
    "\n",
    "mean = np.mean(np.float64(test_set[timesteps:len(pred_mae)]))\n",
    "print(mean)"
   ]
  },
  {
   "cell_type": "code",
   "execution_count": 101,
   "metadata": {
    "collapsed": false
   },
   "outputs": [
    {
     "name": "stdout",
     "output_type": "stream",
     "text": [
      "4.101720410494445\n"
     ]
    }
   ],
   "source": [
    "# NMSE (Normalized MSE)\n",
    "\n",
    "nrmse = (rmse / mean)*100\n",
    "print(nrmse)"
   ]
  },
  {
   "cell_type": "code",
   "execution_count": 102,
   "metadata": {
    "collapsed": false
   },
   "outputs": [
    {
     "name": "stdout",
     "output_type": "stream",
     "text": [
      "3.2249326992761196\n"
     ]
    }
   ],
   "source": [
    "# NMAE (Normalized MAE)\n",
    "\n",
    "nmae = (mae / mean)*100\n",
    "print (nmae)"
   ]
  },
  {
   "cell_type": "code",
   "execution_count": 113,
   "metadata": {
    "collapsed": false
   },
   "outputs": [
    {
     "name": "stdout",
     "output_type": "stream",
     "text": [
      "_________________________________________________________________\n",
      "Layer (type)                 Output Shape              Param #   \n",
      "=================================================================\n",
      "input_4 (InputLayer)         (128, 14, 1)              0         \n",
      "_________________________________________________________________\n",
      "lstm_7 (LSTM)                (128, 14, 10)             480       \n",
      "_________________________________________________________________\n",
      "lstm_8 (LSTM)                (128, 14, 10)             840       \n",
      "_________________________________________________________________\n",
      "dense_4 (Dense)              (128, 14, 1)              11        \n",
      "=================================================================\n",
      "Total params: 1,331\n",
      "Trainable params: 1,331\n",
      "Non-trainable params: 0\n",
      "_________________________________________________________________\n"
     ]
    }
   ],
   "source": [
    "# Initialise the LSTM Model with MSE Loss-Function, using Functional API, Batch Size 128 (as per MAE v1 model)\n",
    "\n",
    "inputs_1_mse = Input(batch_shape=(batch_size,timesteps,1))\n",
    "lstm_1_mse = LSTM(nodes, stateful=True, return_sequences=True)(inputs_1_mse)\n",
    "lstm_2_mse = LSTM(nodes, stateful=True, return_sequences=True)(lstm_1_mse)\n",
    "\n",
    "output_1_mse = Dense(units = 1)(lstm_2_mse)\n",
    "\n",
    "regressor_mse = Model(inputs=inputs_1_mse, outputs = output_1_mse)\n",
    "\n",
    "# Use 'adam' initially\n",
    "\n",
    "regressor_mse.compile(optimizer='adam', loss = 'mse')\n",
    "regressor_mse.summary()"
   ]
  },
  {
   "cell_type": "code",
   "execution_count": 115,
   "metadata": {
    "collapsed": false
   },
   "outputs": [
    {
     "name": "stdout",
     "output_type": "stream",
     "text": [
      "Epoch: 0\n",
      "Epoch 1/1\n",
      "8320/8320 [==============================] - 353s 42ms/step - loss: 0.0100\n",
      "Epoch: 1\n",
      "Epoch 1/1\n",
      "8320/8320 [==============================] - 346s 42ms/step - loss: 0.0158\n",
      "Epoch: 2\n",
      "Epoch 1/1\n",
      "8320/8320 [==============================] - 339s 41ms/step - loss: 0.0050\n",
      "Epoch: 3\n",
      "Epoch 1/1\n",
      "8320/8320 [==============================] - 336s 40ms/step - loss: 0.0039\n",
      "Epoch: 4\n",
      "Epoch 1/1\n",
      "8320/8320 [==============================] - 348s 42ms/step - loss: 0.0037\n",
      "Epoch: 5\n",
      "Epoch 1/1\n",
      "8320/8320 [==============================] - 349s 42ms/step - loss: 0.0036\n",
      "Epoch: 6\n",
      "Epoch 1/1\n",
      "8320/8320 [==============================] - 353s 42ms/step - loss: 0.0035\n",
      "Epoch: 7\n",
      "Epoch 1/1\n",
      "8320/8320 [==============================] - 322s 39ms/step - loss: 0.0034\n",
      "Epoch: 8\n",
      "Epoch 1/1\n",
      "8320/8320 [==============================] - 368s 44ms/step - loss: 0.0033\n",
      "Epoch: 9\n",
      "Epoch 1/1\n",
      "8320/8320 [==============================] - 361s 43ms/step - loss: 0.0032\n"
     ]
    }
   ],
   "source": [
    "# Run model\n",
    "\n",
    "for i in range(epochs):\n",
    "    print(\"Epoch: \" + str(i))\n",
    "    regressor_mse.fit(X_train, y_train, shuffle=False, epochs = 1, batch_size = batch_size)\n",
    "    regressor_mse.reset_states()"
   ]
  },
  {
   "cell_type": "code",
   "execution_count": 118,
   "metadata": {
    "collapsed": true
   },
   "outputs": [],
   "source": [
    "# Prediction\n",
    "\n",
    "predicted_bcg_values_test_mse = regressor_mse.predict(X_test, batch_size=batch_size)\n",
    "regressor_mse.reset_states()\n",
    "\n",
    "predicted_bcg_values_test_mse = np.reshape(predicted_bcg_values_test_mse, \n",
    "                                       (predicted_bcg_values_test_mse.shape[0], \n",
    "                                        predicted_bcg_values_test_mse.shape[1]))\n",
    "predicted_bcg_values_test_mse = sc.inverse_transform(predicted_bcg_values_test_mse)\n",
    "\n",
    "pred_mse = []\n",
    "\n",
    "for j in range(0, testset_length - timesteps):\n",
    "    pred_mse = np.append(pred_mse, predicted_bcg_values_test_mse[j, timesteps-1])\n",
    "\n",
    "pred_mse = np.reshape(pred_mse, (pred_mse.shape[0], 1))"
   ]
  },
  {
   "cell_type": "code",
   "execution_count": 143,
   "metadata": {
    "collapsed": true
   },
   "outputs": [],
   "source": [
    "predicted_bcg_values_test_mse = regressor_mse.predict(X_test, batch_size=batch_size)\n",
    "regressor_mse.reset_states()\n",
    "\n",
    "predicted_bcg_values_test_mse = np.reshape(predicted_bcg_values_test_mse, \n",
    "                                       (predicted_bcg_values_test_mse.shape[0], \n",
    "                                        predicted_bcg_values_test_mse.shape[1]))\n",
    "predicted_bcg_values_test_mse = sc.inverse_transform(predicted_bcg_values_test_mse)\n",
    "\n",
    "pred_mse = []\n",
    "\n",
    "for j in range(0, testset_length - timesteps):\n",
    "    pred_mse = np.append(pred_mse, predicted_bcg_values_test_mse[j, timesteps-1])\n",
    "\n",
    "pred_mse = np.reshape(pred_mse, (pred_mse.shape[0], 1))"
   ]
  },
  {
   "cell_type": "code",
   "execution_count": 144,
   "metadata": {
    "collapsed": false
   },
   "outputs": [
    {
     "data": {
      "image/png": "[encoded data removed]",
      "text/plain": [
       "<Figure size 432x288 with 1 Axes>"
      ]
     },
     "metadata": {
      "needs_background": "light"
     },
     "output_type": "display_data"
    }
   ],
   "source": [
    "# Visualising the results\n",
    "plt.plot(test_set[timesteps:len(pred_mse)].astype(float), color = 'red', label = 'Actual')\n",
    "plt.plot(pred_mse[0:len(pred_mse) - timesteps], color = 'blue', label = 'Predicted')\n",
    "plt.title('FTSE Index Prediction - MSE')\n",
    "plt.xlabel('Time')\n",
    "plt.ylabel('Index')\n",
    "plt.legend()\n",
    "plt.show()"
   ]
  },
  {
   "cell_type": "code",
   "execution_count": 133,
   "metadata": {
    "collapsed": false
   },
   "outputs": [
    {
     "name": "stdout",
     "output_type": "stream",
     "text": [
      "423.14924152691134\n"
     ]
    }
   ],
   "source": [
    "# MSE (mean squared error)\n",
    "\n",
    "rmse = math.sqrt(mean_squared_error(test_set[timesteps:len(y_test)], y_test[0:len(y_test) - timesteps]))\n",
    "print(rmse)"
   ]
  },
  {
   "cell_type": "code",
   "execution_count": 134,
   "metadata": {
    "collapsed": false
   },
   "outputs": [
    {
     "name": "stdout",
     "output_type": "stream",
     "text": [
      "324.15230803987873\n"
     ]
    }
   ],
   "source": [
    "# MAE (mean absolute error)\n",
    "\n",
    "mae = mean_absolute_error(test_set[timesteps:len(y_test)], y_test[0:len(y_test) - timesteps])\n",
    "print(mae)"
   ]
  },
  {
   "cell_type": "code",
   "execution_count": 135,
   "metadata": {
    "collapsed": false
   },
   "outputs": [
    {
     "name": "stdout",
     "output_type": "stream",
     "text": [
      "7273.252534562211\n"
     ]
    }
   ],
   "source": [
    "# Mean value of testset\n",
    "\n",
    "predicted_bcg_values_test_mse = np.reshape(predicted_bcg_values_test_mse, \n",
    "                                       (predicted_bcg_values_test_mse.shape[0], \n",
    "                                        predicted_bcg_values_test_mse.shape[1]))\n",
    "predicted_bcg_values_test_mse = sc.inverse_transform(predicted_bcg_values_test_mse)\n",
    "\n",
    "\n",
    "pred_mse = []\n",
    "\n",
    "for j in range(0, testset_length - timesteps):\n",
    "    pred_mse = np.append(pred_mse, predicted_bcg_values_test_mse[j, timesteps-1])\n",
    "\n",
    "pred_mse = np.reshape(pred_mse, (pred_mse.shape[0], 1))\n",
    "\n",
    "\n",
    "mean = np.mean(np.float64(test_set[timesteps:len(pred_mse)]))\n",
    "print(mean)"
   ]
  },
  {
   "cell_type": "code",
   "execution_count": 136,
   "metadata": {
    "collapsed": false
   },
   "outputs": [
    {
     "name": "stdout",
     "output_type": "stream",
     "text": [
      "5.817881883189436\n"
     ]
    }
   ],
   "source": [
    "# NMSE (Normalized MSE)\n",
    "\n",
    "nrmse = (rmse / mean)*100\n",
    "print(nrmse)"
   ]
  },
  {
   "cell_type": "code",
   "execution_count": 137,
   "metadata": {
    "collapsed": false
   },
   "outputs": [
    {
     "name": "stdout",
     "output_type": "stream",
     "text": [
      "4.456772351840111\n"
     ]
    }
   ],
   "source": [
    "# NMAE (Normalized MAE)\n",
    "\n",
    "nmae = (mae / mean)*100\n",
    "print (nmae)"
   ]
  },
  {
   "cell_type": "code",
   "execution_count": 145,
   "metadata": {
    "collapsed": false
   },
   "outputs": [
    {
     "name": "stdout",
     "output_type": "stream",
     "text": [
      "_________________________________________________________________\n",
      "Layer (type)                 Output Shape              Param #   \n",
      "=================================================================\n",
      "input_5 (InputLayer)         (128, 14, 1)              0         \n",
      "_________________________________________________________________\n",
      "lstm_9 (LSTM)                (128, 14, 10)             480       \n",
      "_________________________________________________________________\n",
      "lstm_10 (LSTM)               (128, 14, 10)             840       \n",
      "_________________________________________________________________\n",
      "dense_5 (Dense)              (128, 14, 1)              11        \n",
      "=================================================================\n",
      "Total params: 1,331\n",
      "Trainable params: 1,331\n",
      "Non-trainable params: 0\n",
      "_________________________________________________________________\n"
     ]
    }
   ],
   "source": [
    "# Final permutation of hyperparameters, initialise MAE model with 20 epochs and batch_size 128\n",
    "\n",
    "epochs = 20\n",
    "\n",
    "inputs_1_mae = Input(batch_shape=(batch_size,timesteps,1))\n",
    "lstm_1_mae = LSTM(nodes, stateful=True, return_sequences=True)(inputs_1_mae)\n",
    "lstm_2_mae = LSTM(nodes, stateful=True, return_sequences=True)(lstm_1_mae)\n",
    "\n",
    "output_1_mae = Dense(units = 1)(lstm_2_mae)\n",
    "\n",
    "regressor_mae = Model(inputs=inputs_1_mae, outputs = output_1_mae)\n",
    "\n",
    "# Use 'adam' initially\n",
    "\n",
    "regressor_mae.compile(optimizer='adam', loss = 'mae')\n",
    "regressor_mae.summary()\n",
    "\n"
   ]
  },
  {
   "cell_type": "code",
   "execution_count": 146,
   "metadata": {
    "collapsed": false
   },
   "outputs": [
    {
     "name": "stdout",
     "output_type": "stream",
     "text": [
      "Epoch: 0\n",
      "Epoch 1/1\n",
      "8320/8320 [==============================] - 351s 42ms/step - loss: 0.1694\n",
      "Epoch: 1\n",
      "Epoch 1/1\n",
      "8320/8320 [==============================] - 345s 42ms/step - loss: 0.1652\n",
      "Epoch: 2\n",
      "Epoch 1/1\n",
      "8320/8320 [==============================] - 314s 38ms/step - loss: 0.0933\n",
      "Epoch: 3\n",
      "Epoch 1/1\n",
      "8320/8320 [==============================] - 346s 42ms/step - loss: 0.0492\n",
      "Epoch: 4\n",
      "Epoch 1/1\n",
      "8320/8320 [==============================] - 338s 41ms/step - loss: 0.0507\n",
      "Epoch: 5\n",
      "Epoch 1/1\n",
      "8320/8320 [==============================] - 345s 41ms/step - loss: 0.0460\n",
      "Epoch: 6\n",
      "Epoch 1/1\n",
      "8320/8320 [==============================] - 381s 46ms/step - loss: 0.0427\n",
      "Epoch: 7\n",
      "Epoch 1/1\n",
      "8320/8320 [==============================] - 355s 43ms/step - loss: 0.0424\n",
      "Epoch: 8\n",
      "Epoch 1/1\n",
      "8320/8320 [==============================] - 361s 43ms/step - loss: 0.0419\n",
      "Epoch: 9\n",
      "Epoch 1/1\n",
      "8320/8320 [==============================] - 346s 42ms/step - loss: 0.0405\n",
      "Epoch: 10\n",
      "Epoch 1/1\n",
      "8320/8320 [==============================] - 340s 41ms/step - loss: 0.0394\n",
      "Epoch: 11\n",
      "Epoch 1/1\n",
      "8320/8320 [==============================] - 348s 42ms/step - loss: 0.0375\n",
      "Epoch: 12\n",
      "Epoch 1/1\n",
      "8320/8320 [==============================] - 326s 39ms/step - loss: 0.0358\n",
      "Epoch: 13\n",
      "Epoch 1/1\n",
      "8320/8320 [==============================] - 348s 42ms/step - loss: 0.0350\n",
      "Epoch: 14\n",
      "Epoch 1/1\n",
      "8320/8320 [==============================] - 357s 43ms/step - loss: 0.0336\n",
      "Epoch: 15\n",
      "Epoch 1/1\n",
      "8320/8320 [==============================] - 358s 43ms/step - loss: 0.0344\n",
      "Epoch: 16\n",
      "Epoch 1/1\n",
      "8320/8320 [==============================] - 331s 40ms/step - loss: 0.0316\n",
      "Epoch: 17\n",
      "Epoch 1/1\n",
      "8320/8320 [==============================] - 370s 44ms/step - loss: 0.0386\n",
      "Epoch: 18\n",
      "Epoch 1/1\n",
      "8320/8320 [==============================] - 364s 44ms/step - loss: 0.0342\n",
      "Epoch: 19\n",
      "Epoch 1/1\n",
      "8320/8320 [==============================] - 365s 44ms/step - loss: 0.0396\n"
     ]
    }
   ],
   "source": [
    "# Run model\n",
    "\n",
    "for i in range(epochs):\n",
    "    print(\"Epoch: \" + str(i))\n",
    "    regressor_mae.fit(X_train, y_train, shuffle=False, epochs = 1, batch_size = batch_size)\n",
    "    regressor_mae.reset_states()"
   ]
  },
  {
   "cell_type": "code",
   "execution_count": 147,
   "metadata": {
    "collapsed": false
   },
   "outputs": [
    {
     "name": "stdout",
     "output_type": "stream",
     "text": [
      "(896, 14, 1)\n",
      "(896, 14)\n",
      "(882, 1)\n"
     ]
    }
   ],
   "source": [
    "# Prediction\n",
    "\n",
    "predicted_bcg_values_test_mae = regressor_mae.predict(X_test, batch_size=batch_size)\n",
    "regressor_mae.reset_states()\n",
    "\n",
    "print(predicted_bcg_values_test_mae.shape)\n",
    "\n",
    "#reshaping\n",
    "predicted_bcg_values_test_mae = np.reshape(predicted_bcg_values_test_mae, \n",
    "                                       (predicted_bcg_values_test_mae.shape[0], \n",
    "                                        predicted_bcg_values_test_mae.shape[1]))\n",
    "\n",
    "print(predicted_bcg_values_test_mae.shape)\n",
    "#inverse transform\n",
    "predicted_bcg_values_test_mae = sc.inverse_transform(predicted_bcg_values_test_mae)\n",
    "\n",
    "\n",
    "#creating y_test data\n",
    "y_test = []\n",
    "for j in range(0, testset_length - timesteps):\n",
    "    y_test = np.append(y_test, predicted_bcg_values_test_mae[j, timesteps-1])\n",
    "\n",
    "# reshaping\n",
    "y_test = np.reshape(y_test, (y_test.shape[0], 1))\n",
    "\n",
    "print(y_test.shape)"
   ]
  },
  {
   "cell_type": "code",
   "execution_count": 148,
   "metadata": {
    "collapsed": false
   },
   "outputs": [
    {
     "data": {
      "image/png": "[encoded data removed]",
      "text/plain": [
       "<Figure size 432x288 with 1 Axes>"
      ]
     },
     "metadata": {
      "needs_background": "light"
     },
     "output_type": "display_data"
    }
   ],
   "source": [
    "# Visualising the results\n",
    "plt.plot(test_set[timesteps:len(y_test)].astype(float), color = 'red', label = 'Actual')\n",
    "plt.plot(y_test[0:len(y_test) - timesteps].astype(float), color = 'blue', label = 'Predicted')\n",
    "plt.title('FTSE Index Prediction - MAE v3')\n",
    "plt.xlabel('Time (Days)')\n",
    "plt.ylabel('Index')\n",
    "plt.legend()\n",
    "#plt.xlim(0,100)\n",
    "plt.show()"
   ]
  },
  {
   "cell_type": "code",
   "execution_count": 149,
   "metadata": {
    "collapsed": false
   },
   "outputs": [
    {
     "name": "stdout",
     "output_type": "stream",
     "text": [
      "252.96098298184552\n"
     ]
    }
   ],
   "source": [
    "# MSE (mean sqared error)\n",
    "import math\n",
    "from sklearn.metrics import mean_squared_error\n",
    "rmse = math.sqrt(mean_squared_error(test_set[timesteps:len(y_test)], y_test[0:len(y_test) - timesteps]))\n",
    "print(rmse)"
   ]
  },
  {
   "cell_type": "code",
   "execution_count": 150,
   "metadata": {
    "collapsed": false
   },
   "outputs": [
    {
     "name": "stdout",
     "output_type": "stream",
     "text": [
      "196.39021108600954\n"
     ]
    }
   ],
   "source": [
    "# MAE (mean absolute error)\n",
    "from sklearn.metrics import mean_absolute_error\n",
    "mae = mean_absolute_error(test_set[timesteps:len(y_test)], y_test[0:len(y_test) - timesteps])\n",
    "print(mae)"
   ]
  },
  {
   "cell_type": "code",
   "execution_count": 151,
   "metadata": {
    "collapsed": false
   },
   "outputs": [
    {
     "name": "stdout",
     "output_type": "stream",
     "text": [
      "3.4779623253803558\n"
     ]
    }
   ],
   "source": [
    "# NMSE (Normalized MSE)\n",
    "\n",
    "nrmse = (rmse / mean)*100\n",
    "print(nrmse)"
   ]
  },
  {
   "cell_type": "code",
   "execution_count": 166,
   "metadata": {
    "collapsed": false
   },
   "outputs": [
    {
     "name": "stdout",
     "output_type": "stream",
     "text": [
      "2.7001703866704885\n"
     ]
    }
   ],
   "source": [
    "# NMAE (Normalized MAE)\n",
    "\n",
    "nmae = (mae / mean)*100\n",
    "print (nmae)"
   ]
  },
  {
   "cell_type": "markdown",
   "metadata": {},
   "source": [
    "***"
   ]
  },
  {
   "cell_type": "markdown",
   "metadata": {},
   "source": [
    "## Selection / Final Result"
   ]
  },
  {
   "cell_type": "markdown",
   "metadata": {},
   "source": [
    "#### <font color=red> The optimal configuration, within the computational limits of this project is: MAE, Batch Size 128, 10 Epochs"
   ]
  }
 ],
 "metadata": {
  "anaconda-cloud": {},
  "kernelspec": {
   "display_name": "Python [default]",
   "language": "python",
   "name": "python3"
  },
  "language_info": {
   "codemirror_mode": {
    "name": "ipython",
    "version": 3
   },
   "file_extension": ".py",
   "mimetype": "text/x-python",
   "name": "python",
   "nbconvert_exporter": "python",
   "pygments_lexer": "ipython3",
   "version": "3.5.6"
  }
 },
 "nbformat": 4,
 "nbformat_minor": 1
}
